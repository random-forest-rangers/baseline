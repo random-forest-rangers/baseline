{
 "cells": [
  {
   "cell_type": "markdown",
   "id": "b7dea518",
   "metadata": {
    "papermill": {
     "duration": 0.004628,
     "end_time": "2025-10-18T14:14:32.153054",
     "exception": false,
     "start_time": "2025-10-18T14:14:32.148426",
     "status": "completed"
    },
    "tags": []
   },
   "source": [
    "# NFL 2026 - Simple LightGBM Baseline\n",
    "\n",
    "**Strategy**: Very simple LightGBM for X and Y prediction\n",
    "\n",
    "## Table of Contents\n",
    "\n",
    "1. [Configuration](#1-configuration)\n",
    "2. [Data Loading](#2-data-loading)\n",
    "3. [Feature Engineering](#3-feature-engineering)\n",
    "4. [Aggregation](#4-aggregation)\n",
    "5. [Cross-Validation](#6-cross-validation)\n",
    "6. [Test Prediction](#7-test-prediction)\n",
    "7. [Submission](#8-submission)"
   ]
  },
  {
   "cell_type": "code",
   "execution_count": 1,
   "id": "a4a814e4",
   "metadata": {
    "execution": {
     "iopub.execute_input": "2025-10-18T14:14:32.162301Z",
     "iopub.status.busy": "2025-10-18T14:14:32.161966Z",
     "iopub.status.idle": "2025-10-18T14:14:40.465378Z",
     "shell.execute_reply": "2025-10-18T14:14:40.464410Z"
    },
    "papermill": {
     "duration": 8.309906,
     "end_time": "2025-10-18T14:14:40.467072",
     "exception": false,
     "start_time": "2025-10-18T14:14:32.157166",
     "status": "completed"
    },
    "tags": []
   },
   "outputs": [],
   "source": [
    "import pandas as pd\n",
    "import numpy as np\n",
    "import lightgbm as lgb\n",
    "from lightgbm import LGBMRegressor\n",
    "from sklearn.model_selection import GroupKFold\n",
    "from sklearn.metrics import mean_squared_error\n",
    "from pathlib import Path\n",
    "import gc"
   ]
  },
  {
   "cell_type": "markdown",
   "id": "920de90d",
   "metadata": {
    "papermill": {
     "duration": 0.003559,
     "end_time": "2025-10-18T14:14:40.474901",
     "exception": false,
     "start_time": "2025-10-18T14:14:40.471342",
     "status": "completed"
    },
    "tags": []
   },
   "source": [
    "---\n",
    "## 1. Configuration"
   ]
  },
  {
   "cell_type": "code",
   "execution_count": 2,
   "id": "badef912",
   "metadata": {
    "execution": {
     "iopub.execute_input": "2025-10-18T14:14:40.484126Z",
     "iopub.status.busy": "2025-10-18T14:14:40.483223Z",
     "iopub.status.idle": "2025-10-18T14:14:40.489117Z",
     "shell.execute_reply": "2025-10-18T14:14:40.488223Z"
    },
    "papermill": {
     "duration": 0.011924,
     "end_time": "2025-10-18T14:14:40.490483",
     "exception": false,
     "start_time": "2025-10-18T14:14:40.478559",
     "status": "completed"
    },
    "tags": []
   },
   "outputs": [],
   "source": [
    "# Config\n",
    "DATA_PATH = Path('/kaggle/input/nfl-big-data-bowl-2026-prediction')\n",
    "TRAIN_PATH = DATA_PATH / 'train'\n",
    "WEEKS = [1, 2, 3, 4, 5, 6, 7, 8, 9, 10, 11, 12]\n",
    "N_FOLDS = 5\n",
    "RANDOM_STATE = 42\n",
    "\n",
    "params = {\n",
    "    \"objective\": \"regression\",\n",
    "    \"metric\": \"rmse\",\n",
    "    \"boosting_type\": \"gbdt\",\n",
    "    \"learning_rate\": 0.05,\n",
    "    \"num_leaves\": 64,\n",
    "    \"max_depth\": -1,\n",
    "    \"feature_fraction\": 0.85,\n",
    "    \"bagging_fraction\": 0.85,\n",
    "    \"bagging_freq\": 5,\n",
    "    \"n_estimators\": 1000,\n",
    "    \"random_state\": 42,\n",
    "    \"verbose\": -1,\n",
    "}"
   ]
  },
  {
   "cell_type": "markdown",
   "id": "666b35fe",
   "metadata": {
    "papermill": {
     "duration": 0.003571,
     "end_time": "2025-10-18T14:14:40.497956",
     "exception": false,
     "start_time": "2025-10-18T14:14:40.494385",
     "status": "completed"
    },
    "tags": []
   },
   "source": [
    "---\n",
    "## 2. Data Loading"
   ]
  },
  {
   "cell_type": "code",
   "execution_count": 3,
   "id": "3c85aa2e",
   "metadata": {
    "execution": {
     "iopub.execute_input": "2025-10-18T14:14:40.506625Z",
     "iopub.status.busy": "2025-10-18T14:14:40.506328Z",
     "iopub.status.idle": "2025-10-18T14:14:53.329234Z",
     "shell.execute_reply": "2025-10-18T14:14:53.328304Z"
    },
    "papermill": {
     "duration": 12.828923,
     "end_time": "2025-10-18T14:14:53.330613",
     "exception": false,
     "start_time": "2025-10-18T14:14:40.501690",
     "status": "completed"
    },
    "tags": []
   },
   "outputs": [
    {
     "name": "stdout",
     "output_type": "stream",
     "text": [
      "Data loaded: 3236116 input rows, 180 games\n",
      "Data loaded: 368514 output rows, 180 games\n"
     ]
    }
   ],
   "source": [
    "# Load data\n",
    "def load_weeks(week_nums):\n",
    "    inputs, outputs = [], []\n",
    "    for w in week_nums:\n",
    "        inp = pd.read_csv(TRAIN_PATH / f'input_2023_w{w:02d}.csv')\n",
    "        out = pd.read_csv(TRAIN_PATH / f'output_2023_w{w:02d}.csv')\n",
    "        inputs.append(inp)\n",
    "        outputs.append(out)\n",
    "    return pd.concat(inputs, ignore_index=True), pd.concat(outputs, ignore_index=True)\n",
    "\n",
    "input_df, output_df = load_weeks(WEEKS)\n",
    "print(f\"Data loaded: {len(input_df)} input rows, {input_df['game_id'].nunique()} games\")\n",
    "print(f\"Data loaded: {len(output_df)} output rows, {output_df['game_id'].nunique()} games\")"
   ]
  },
  {
   "cell_type": "code",
   "execution_count": 4,
   "id": "ee264378",
   "metadata": {
    "execution": {
     "iopub.execute_input": "2025-10-18T14:14:53.339168Z",
     "iopub.status.busy": "2025-10-18T14:14:53.338893Z",
     "iopub.status.idle": "2025-10-18T14:14:53.374230Z",
     "shell.execute_reply": "2025-10-18T14:14:53.373416Z"
    },
    "papermill": {
     "duration": 0.041172,
     "end_time": "2025-10-18T14:14:53.375675",
     "exception": false,
     "start_time": "2025-10-18T14:14:53.334503",
     "status": "completed"
    },
    "tags": []
   },
   "outputs": [
    {
     "data": {
      "text/html": [
       "<div>\n",
       "<style scoped>\n",
       "    .dataframe tbody tr th:only-of-type {\n",
       "        vertical-align: middle;\n",
       "    }\n",
       "\n",
       "    .dataframe tbody tr th {\n",
       "        vertical-align: top;\n",
       "    }\n",
       "\n",
       "    .dataframe thead th {\n",
       "        text-align: right;\n",
       "    }\n",
       "</style>\n",
       "<table border=\"1\" class=\"dataframe\">\n",
       "  <thead>\n",
       "    <tr style=\"text-align: right;\">\n",
       "      <th></th>\n",
       "      <th>game_id</th>\n",
       "      <th>play_id</th>\n",
       "      <th>player_to_predict</th>\n",
       "      <th>nfl_id</th>\n",
       "      <th>frame_id</th>\n",
       "      <th>play_direction</th>\n",
       "      <th>absolute_yardline_number</th>\n",
       "      <th>player_name</th>\n",
       "      <th>player_height</th>\n",
       "      <th>player_weight</th>\n",
       "      <th>...</th>\n",
       "      <th>player_role</th>\n",
       "      <th>x</th>\n",
       "      <th>y</th>\n",
       "      <th>s</th>\n",
       "      <th>a</th>\n",
       "      <th>dir</th>\n",
       "      <th>o</th>\n",
       "      <th>num_frames_output</th>\n",
       "      <th>ball_land_x</th>\n",
       "      <th>ball_land_y</th>\n",
       "    </tr>\n",
       "  </thead>\n",
       "  <tbody>\n",
       "    <tr>\n",
       "      <th>0</th>\n",
       "      <td>2023090700</td>\n",
       "      <td>101</td>\n",
       "      <td>False</td>\n",
       "      <td>54527</td>\n",
       "      <td>1</td>\n",
       "      <td>right</td>\n",
       "      <td>42</td>\n",
       "      <td>Bryan Cook</td>\n",
       "      <td>6-1</td>\n",
       "      <td>210</td>\n",
       "      <td>...</td>\n",
       "      <td>Defensive Coverage</td>\n",
       "      <td>52.33</td>\n",
       "      <td>36.94</td>\n",
       "      <td>0.09</td>\n",
       "      <td>0.39</td>\n",
       "      <td>322.40</td>\n",
       "      <td>238.24</td>\n",
       "      <td>21</td>\n",
       "      <td>63.259998</td>\n",
       "      <td>-0.22</td>\n",
       "    </tr>\n",
       "    <tr>\n",
       "      <th>1</th>\n",
       "      <td>2023090700</td>\n",
       "      <td>101</td>\n",
       "      <td>False</td>\n",
       "      <td>54527</td>\n",
       "      <td>2</td>\n",
       "      <td>right</td>\n",
       "      <td>42</td>\n",
       "      <td>Bryan Cook</td>\n",
       "      <td>6-1</td>\n",
       "      <td>210</td>\n",
       "      <td>...</td>\n",
       "      <td>Defensive Coverage</td>\n",
       "      <td>52.33</td>\n",
       "      <td>36.94</td>\n",
       "      <td>0.04</td>\n",
       "      <td>0.61</td>\n",
       "      <td>200.89</td>\n",
       "      <td>236.05</td>\n",
       "      <td>21</td>\n",
       "      <td>63.259998</td>\n",
       "      <td>-0.22</td>\n",
       "    </tr>\n",
       "    <tr>\n",
       "      <th>2</th>\n",
       "      <td>2023090700</td>\n",
       "      <td>101</td>\n",
       "      <td>False</td>\n",
       "      <td>54527</td>\n",
       "      <td>3</td>\n",
       "      <td>right</td>\n",
       "      <td>42</td>\n",
       "      <td>Bryan Cook</td>\n",
       "      <td>6-1</td>\n",
       "      <td>210</td>\n",
       "      <td>...</td>\n",
       "      <td>Defensive Coverage</td>\n",
       "      <td>52.33</td>\n",
       "      <td>36.93</td>\n",
       "      <td>0.12</td>\n",
       "      <td>0.73</td>\n",
       "      <td>147.55</td>\n",
       "      <td>240.60</td>\n",
       "      <td>21</td>\n",
       "      <td>63.259998</td>\n",
       "      <td>-0.22</td>\n",
       "    </tr>\n",
       "    <tr>\n",
       "      <th>3</th>\n",
       "      <td>2023090700</td>\n",
       "      <td>101</td>\n",
       "      <td>False</td>\n",
       "      <td>54527</td>\n",
       "      <td>4</td>\n",
       "      <td>right</td>\n",
       "      <td>42</td>\n",
       "      <td>Bryan Cook</td>\n",
       "      <td>6-1</td>\n",
       "      <td>210</td>\n",
       "      <td>...</td>\n",
       "      <td>Defensive Coverage</td>\n",
       "      <td>52.35</td>\n",
       "      <td>36.92</td>\n",
       "      <td>0.23</td>\n",
       "      <td>0.81</td>\n",
       "      <td>131.40</td>\n",
       "      <td>244.25</td>\n",
       "      <td>21</td>\n",
       "      <td>63.259998</td>\n",
       "      <td>-0.22</td>\n",
       "    </tr>\n",
       "    <tr>\n",
       "      <th>4</th>\n",
       "      <td>2023090700</td>\n",
       "      <td>101</td>\n",
       "      <td>False</td>\n",
       "      <td>54527</td>\n",
       "      <td>5</td>\n",
       "      <td>right</td>\n",
       "      <td>42</td>\n",
       "      <td>Bryan Cook</td>\n",
       "      <td>6-1</td>\n",
       "      <td>210</td>\n",
       "      <td>...</td>\n",
       "      <td>Defensive Coverage</td>\n",
       "      <td>52.37</td>\n",
       "      <td>36.90</td>\n",
       "      <td>0.35</td>\n",
       "      <td>0.82</td>\n",
       "      <td>123.26</td>\n",
       "      <td>244.25</td>\n",
       "      <td>21</td>\n",
       "      <td>63.259998</td>\n",
       "      <td>-0.22</td>\n",
       "    </tr>\n",
       "    <tr>\n",
       "      <th>5</th>\n",
       "      <td>2023090700</td>\n",
       "      <td>101</td>\n",
       "      <td>False</td>\n",
       "      <td>54527</td>\n",
       "      <td>6</td>\n",
       "      <td>right</td>\n",
       "      <td>42</td>\n",
       "      <td>Bryan Cook</td>\n",
       "      <td>6-1</td>\n",
       "      <td>210</td>\n",
       "      <td>...</td>\n",
       "      <td>Defensive Coverage</td>\n",
       "      <td>52.44</td>\n",
       "      <td>36.88</td>\n",
       "      <td>0.60</td>\n",
       "      <td>0.87</td>\n",
       "      <td>106.89</td>\n",
       "      <td>247.67</td>\n",
       "      <td>21</td>\n",
       "      <td>63.259998</td>\n",
       "      <td>-0.22</td>\n",
       "    </tr>\n",
       "    <tr>\n",
       "      <th>6</th>\n",
       "      <td>2023090700</td>\n",
       "      <td>101</td>\n",
       "      <td>False</td>\n",
       "      <td>54527</td>\n",
       "      <td>7</td>\n",
       "      <td>right</td>\n",
       "      <td>42</td>\n",
       "      <td>Bryan Cook</td>\n",
       "      <td>6-1</td>\n",
       "      <td>210</td>\n",
       "      <td>...</td>\n",
       "      <td>Defensive Coverage</td>\n",
       "      <td>52.51</td>\n",
       "      <td>36.86</td>\n",
       "      <td>0.76</td>\n",
       "      <td>0.64</td>\n",
       "      <td>103.87</td>\n",
       "      <td>247.67</td>\n",
       "      <td>21</td>\n",
       "      <td>63.259998</td>\n",
       "      <td>-0.22</td>\n",
       "    </tr>\n",
       "  </tbody>\n",
       "</table>\n",
       "<p>7 rows × 23 columns</p>\n",
       "</div>"
      ],
      "text/plain": [
       "      game_id  play_id  player_to_predict  nfl_id  frame_id play_direction  \\\n",
       "0  2023090700      101              False   54527         1          right   \n",
       "1  2023090700      101              False   54527         2          right   \n",
       "2  2023090700      101              False   54527         3          right   \n",
       "3  2023090700      101              False   54527         4          right   \n",
       "4  2023090700      101              False   54527         5          right   \n",
       "5  2023090700      101              False   54527         6          right   \n",
       "6  2023090700      101              False   54527         7          right   \n",
       "\n",
       "   absolute_yardline_number player_name player_height  player_weight  ...  \\\n",
       "0                        42  Bryan Cook           6-1            210  ...   \n",
       "1                        42  Bryan Cook           6-1            210  ...   \n",
       "2                        42  Bryan Cook           6-1            210  ...   \n",
       "3                        42  Bryan Cook           6-1            210  ...   \n",
       "4                        42  Bryan Cook           6-1            210  ...   \n",
       "5                        42  Bryan Cook           6-1            210  ...   \n",
       "6                        42  Bryan Cook           6-1            210  ...   \n",
       "\n",
       "          player_role      x      y     s     a     dir       o  \\\n",
       "0  Defensive Coverage  52.33  36.94  0.09  0.39  322.40  238.24   \n",
       "1  Defensive Coverage  52.33  36.94  0.04  0.61  200.89  236.05   \n",
       "2  Defensive Coverage  52.33  36.93  0.12  0.73  147.55  240.60   \n",
       "3  Defensive Coverage  52.35  36.92  0.23  0.81  131.40  244.25   \n",
       "4  Defensive Coverage  52.37  36.90  0.35  0.82  123.26  244.25   \n",
       "5  Defensive Coverage  52.44  36.88  0.60  0.87  106.89  247.67   \n",
       "6  Defensive Coverage  52.51  36.86  0.76  0.64  103.87  247.67   \n",
       "\n",
       "   num_frames_output  ball_land_x  ball_land_y  \n",
       "0                 21    63.259998        -0.22  \n",
       "1                 21    63.259998        -0.22  \n",
       "2                 21    63.259998        -0.22  \n",
       "3                 21    63.259998        -0.22  \n",
       "4                 21    63.259998        -0.22  \n",
       "5                 21    63.259998        -0.22  \n",
       "6                 21    63.259998        -0.22  \n",
       "\n",
       "[7 rows x 23 columns]"
      ]
     },
     "execution_count": 4,
     "metadata": {},
     "output_type": "execute_result"
    }
   ],
   "source": [
    "input_df.head(7)"
   ]
  },
  {
   "cell_type": "code",
   "execution_count": 5,
   "id": "b22d4843",
   "metadata": {
    "execution": {
     "iopub.execute_input": "2025-10-18T14:14:53.385297Z",
     "iopub.status.busy": "2025-10-18T14:14:53.384848Z",
     "iopub.status.idle": "2025-10-18T14:14:53.538005Z",
     "shell.execute_reply": "2025-10-18T14:14:53.537325Z"
    },
    "papermill": {
     "duration": 0.159243,
     "end_time": "2025-10-18T14:14:53.539219",
     "exception": false,
     "start_time": "2025-10-18T14:14:53.379976",
     "status": "completed"
    },
    "tags": []
   },
   "outputs": [
    {
     "data": {
      "text/plain": [
       "False"
      ]
     },
     "execution_count": 5,
     "metadata": {},
     "output_type": "execute_result"
    }
   ],
   "source": [
    "input_df.player_height.isnull().values.any()"
   ]
  },
  {
   "cell_type": "markdown",
   "id": "e53a9ba0",
   "metadata": {
    "papermill": {
     "duration": 0.003918,
     "end_time": "2025-10-18T14:14:53.547690",
     "exception": false,
     "start_time": "2025-10-18T14:14:53.543772",
     "status": "completed"
    },
    "tags": []
   },
   "source": [
    "---\n",
    "## 3. Feature Engineering"
   ]
  },
  {
   "cell_type": "code",
   "execution_count": 6,
   "id": "686a644c",
   "metadata": {
    "execution": {
     "iopub.execute_input": "2025-10-18T14:14:53.557387Z",
     "iopub.status.busy": "2025-10-18T14:14:53.556673Z",
     "iopub.status.idle": "2025-10-18T14:14:53.561775Z",
     "shell.execute_reply": "2025-10-18T14:14:53.560989Z"
    },
    "papermill": {
     "duration": 0.011271,
     "end_time": "2025-10-18T14:14:53.563060",
     "exception": false,
     "start_time": "2025-10-18T14:14:53.551789",
     "status": "completed"
    },
    "tags": []
   },
   "outputs": [],
   "source": [
    "def parse_height(h):\n",
    "    try:\n",
    "        if isinstance(h, str) and '-' in h:\n",
    "            ft, inch = h.split('-')\n",
    "            return float(ft) + float(inch) / 12.0\n",
    "        return np.nan\n",
    "    except:\n",
    "        return np.nan"
   ]
  },
  {
   "cell_type": "code",
   "execution_count": 7,
   "id": "03fc9492",
   "metadata": {
    "execution": {
     "iopub.execute_input": "2025-10-18T14:14:53.572786Z",
     "iopub.status.busy": "2025-10-18T14:14:53.572134Z",
     "iopub.status.idle": "2025-10-18T14:17:46.603107Z",
     "shell.execute_reply": "2025-10-18T14:17:46.602219Z"
    },
    "papermill": {
     "duration": 173.041298,
     "end_time": "2025-10-18T14:17:46.608517",
     "exception": false,
     "start_time": "2025-10-18T14:14:53.567219",
     "status": "completed"
    },
    "tags": []
   },
   "outputs": [
    {
     "name": "stdout",
     "output_type": "stream",
     "text": [
      "Features created: 90 columns\n"
     ]
    }
   ],
   "source": [
    "def create_features(df):\n",
    "    df = df.copy()\n",
    "\n",
    "    # Player height\n",
    "    df['player_height_feet'] = df['player_height'].map(parse_height)\n",
    "\n",
    "    # Speed & acceleration components\n",
    "    df['dir_rad'] = np.deg2rad(df['dir'].fillna(0.0))\n",
    "    df['velocity_x'] = df['s'] * np.cos(df['dir_rad'])\n",
    "    df['velocity_y'] = df['s'] * np.sin(df['dir_rad'])\n",
    "    df['acceleration_x'] = df['a'] * np.cos(df['dir_rad'])\n",
    "    df['acceleration_y'] = df['a'] * np.sin(df['dir_rad'])\n",
    "\n",
    "    # Orientation\n",
    "    df['o_rad'] = np.deg2rad(df['o'].fillna(0.0))\n",
    "    df['orientation_x'] = np.cos(df['o_rad'])\n",
    "    df['orientation_y'] = np.sin(df['o_rad'])\n",
    "\n",
    "    # Kinetic energy\n",
    "    df['kinetic_energy'] = 0.5 * (df['player_weight'] * 0.453592) * ((df['s'] * 0.9144) ** 2)\n",
    "\n",
    "    # Roles\n",
    "    df['is_offense'] = (df['player_side'] == 'Offense').astype(int)\n",
    "    df['is_defense'] = (df['player_side'] == 'Defense').astype(int)\n",
    "    df['is_receiver'] = df['player_role'].str.contains('Receiver|Targeted', case=False, na=False).astype(int)\n",
    "    df['is_coverage'] = df['player_role'].str.contains('Coverage|Defensive', case=False, na=False).astype(int)\n",
    "    df['is_passer'] = df['player_role'].str.contains('Passer', case=False, na=False).astype(int)\n",
    "    df['is_rusher'] = df['player_role'].str.contains('Rusher', case=False, na=False).astype(int)\n",
    "\n",
    "    # Field position\n",
    "    df['field_x_norm'] = df['x'] / 120.0\n",
    "    df['field_y_norm'] = df['y'] / 53.3\n",
    "    df['dist_from_sideline'] = np.minimum(df['y'], 53.3 - df['y'])\n",
    "    df['dist_from_endzone'] = df['absolute_yardline_number']\n",
    "    df['distance_to_sideline'] = df['dist_from_sideline']\n",
    "    df['distance_to_endzone'] = df['dist_from_endzone']\n",
    "\n",
    "    # Ball interaction\n",
    "    df['ball_direction_x'] = df['ball_land_x'] - df['x']\n",
    "    df['ball_direction_y'] = df['ball_land_y'] - df['y']\n",
    "    df['distance_to_ball'] = np.sqrt(df['ball_direction_x']**2 + df['ball_direction_y']**2)\n",
    "    df['angle_to_ball'] = np.arctan2(df['ball_direction_y'], df['ball_direction_x'])\n",
    "    df['closing_speed'] = (\n",
    "        (df['velocity_x'] * df['ball_direction_x'] + df['velocity_y'] * df['ball_direction_y'])\n",
    "        / df['distance_to_ball'].replace(0, np.nan)\n",
    "    ).fillna(0.0)\n",
    "\n",
    "    # Target Alignment Features\n",
    "    if 'ball_direction_x' in df.columns:\n",
    "        df['velocity_alignment'] = (\n",
    "            df['velocity_x'] * df['ball_direction_x'] +\n",
    "            df['velocity_y'] * df['ball_direction_y']\n",
    "        )\n",
    "        df['velocity_perpendicular'] = (\n",
    "            df['velocity_x'] * (-df['ball_direction_y']) +\n",
    "            df['velocity_y'] * df['ball_direction_x']\n",
    "        )\n",
    "        if 'acceleration_x' in df.columns:\n",
    "            df['accel_alignment'] = (\n",
    "                df['acceleration_x'] * df['ball_direction_x'] +\n",
    "                df['acceleration_y'] * df['ball_direction_y']\n",
    "            )\n",
    "    \n",
    "    # Sort by time for sequential features\n",
    "    df = df.sort_values(['game_id', 'play_id', 'nfl_id', 'frame_id'])\n",
    "    gcols = ['game_id', 'play_id', 'nfl_id']\n",
    "    group = df.groupby(gcols)\n",
    "\n",
    "     # Role-Specific Features\n",
    "    if 'is_receiver' in df.columns and 'velocity_alignment' in df.columns:\n",
    "        df['receiver_optimality'] = df['is_receiver'] * df['velocity_alignment']\n",
    "        df['receiver_deviation'] = df['is_receiver'] * np.abs(df.get('velocity_perpendicular', 0))\n",
    "    if 'is_coverage' in df.columns and 'closing_speed' in df.columns:\n",
    "        df['defender_closing_speed'] = df['is_coverage'] * df['closing_speed']\n",
    "\n",
    "    # Lags\n",
    "    for lag in [1, 2, 3, 5]:\n",
    "        for c in ['x', 'y', 'velocity_x', 'velocity_y', 's']:\n",
    "            df[f\"{c}_lag{lag}\"] = group[c].shift(lag)\n",
    "\n",
    "    # EMA (fixed + optimized)\n",
    "    for alpha in [0.1, 0.3, 0.5]:\n",
    "        df[f'velocity_x_ema_{alpha}'] = (\n",
    "            df.groupby(gcols)['velocity_x']\n",
    "            .transform(lambda s: s.ewm(alpha=alpha, adjust=False).mean())\n",
    "        )\n",
    "        df[f'velocity_y_ema_{alpha}'] = (\n",
    "            df.groupby(gcols)['velocity_y']\n",
    "            .transform(lambda s: s.ewm(alpha=alpha, adjust=False).mean())\n",
    "        )\n",
    "\n",
    "    # Rolling features\n",
    "    for c in ['velocity_x', 'velocity_y', 's', 'a']:\n",
    "        df[f'{c}_roll5'] = (\n",
    "            group[c].rolling(5, min_periods=1)\n",
    "            .mean()\n",
    "            .reset_index(level=[0, 1, 2], drop=True)\n",
    "        )\n",
    "        df[f'{c}_std5'] = (\n",
    "            group[c].rolling(5, min_periods=1)\n",
    "            .std()\n",
    "            .reset_index(level=[0, 1, 2], drop=True)\n",
    "            .fillna(0)\n",
    "        )\n",
    "\n",
    "    return df\n",
    "\n",
    "input_df = create_features(input_df)\n",
    "print(f\"Features created: {input_df.shape[1]} columns\")"
   ]
  },
  {
   "cell_type": "markdown",
   "id": "256b9440",
   "metadata": {
    "papermill": {
     "duration": 0.003968,
     "end_time": "2025-10-18T14:17:46.616699",
     "exception": false,
     "start_time": "2025-10-18T14:17:46.612731",
     "status": "completed"
    },
    "tags": []
   },
   "source": [
    "---\n",
    "### 3.1 Aggregation"
   ]
  },
  {
   "cell_type": "code",
   "execution_count": 8,
   "id": "7a0c2e09",
   "metadata": {
    "execution": {
     "iopub.execute_input": "2025-10-18T14:17:46.626669Z",
     "iopub.status.busy": "2025-10-18T14:17:46.625906Z",
     "iopub.status.idle": "2025-10-18T14:17:52.132897Z",
     "shell.execute_reply": "2025-10-18T14:17:52.132195Z"
    },
    "papermill": {
     "duration": 5.513665,
     "end_time": "2025-10-18T14:17:52.134484",
     "exception": false,
     "start_time": "2025-10-18T14:17:46.620819",
     "status": "completed"
    },
    "tags": []
   },
   "outputs": [],
   "source": [
    "agg_features = (\n",
    "    input_df\n",
    "    .groupby(['game_id', 'play_id', 'nfl_id'])\n",
    "    .agg({\n",
    "        # --- Core tracking ---\n",
    "        'x': ['first', 'last', 'mean', 'std'],\n",
    "        'y': ['first', 'last', 'mean', 'std'],\n",
    "        's': ['mean', 'max', 'std'],\n",
    "        'a': ['mean', 'max', 'std'],\n",
    "        'o': ['mean', 'std'],\n",
    "        'dir': ['mean', 'std'],\n",
    "        'frame_id': ['min', 'max', 'count'],\n",
    "\n",
    "        # --- Motion features ---\n",
    "        'velocity_x': ['mean', 'max', 'std', 'last'],\n",
    "        'velocity_y': ['mean', 'max', 'std', 'last'],\n",
    "        'acceleration_x': ['mean', 'max', 'std'],\n",
    "        'acceleration_y': ['mean', 'max', 'std'],\n",
    "        'kinetic_energy': ['mean', 'max'],\n",
    "\n",
    "        # --- Ball interaction ---\n",
    "        'distance_to_ball': ['first', 'last', 'mean', 'min', 'std'],\n",
    "        'angle_to_ball': ['mean', 'std'],\n",
    "        'ball_direction_x': ['mean', 'std', 'last'],\n",
    "        'ball_direction_y': ['mean', 'std', 'last'],\n",
    "        'closing_speed': ['mean', 'max', 'std'],\n",
    "\n",
    "        # --- Temporal/derived dynamics ---\n",
    "        'x_lag1': ['mean'], 'y_lag1': ['mean'],\n",
    "        'x_lag3': ['mean'], 'y_lag3': ['mean'],\n",
    "        'velocity_x_ema_0.3': ['last'], 'velocity_y_ema_0.3': ['last'],\n",
    "        'velocity_x_roll5': ['last'], 'velocity_y_roll5': ['last'],\n",
    "        's_roll5': ['last'], 'a_roll5': ['last'],\n",
    "\n",
    "        # --- Field & positioning ---\n",
    "        'field_x_norm': ['last', 'mean'],\n",
    "        'field_y_norm': ['last', 'mean'],\n",
    "        'dist_from_sideline': ['mean', 'min'],\n",
    "        'distance_to_endzone': ['mean', 'min'],\n",
    "\n",
    "        # --- Advanced features ---\n",
    "        'velocity_alignment': ['mean'],\n",
    "        'accel_alignment': ['mean'],\n",
    "        'receiver_optimality': ['mean', 'max'],\n",
    "        'defender_closing_speed': ['mean', 'max'],\n",
    "    })\n",
    "    .reset_index()\n",
    ")\n",
    "\n",
    "# Flatten multi-level column names\n",
    "agg_features.columns = ['_'.join(col).strip('_') for col in agg_features.columns.values]\n",
    "\n",
    "\n",
    "static = (\n",
    "    input_df\n",
    "    .groupby(['game_id', 'play_id', 'nfl_id'])\n",
    "    .first()[[\n",
    "        'ball_land_x', 'ball_land_y',\n",
    "        'player_height_feet', 'player_weight',\n",
    "        'is_offense', 'is_defense',\n",
    "        'is_receiver', 'is_coverage', 'is_passer', 'is_rusher'\n",
    "    ]]\n",
    "    .reset_index()\n",
    ")\n",
    "\n",
    "# Merge \n",
    "features_df = agg_features.merge(static, on=['game_id', 'play_id', 'nfl_id'], how='left')"
   ]
  },
  {
   "cell_type": "markdown",
   "id": "7663e3a9",
   "metadata": {
    "papermill": {
     "duration": 0.004325,
     "end_time": "2025-10-18T14:17:52.144163",
     "exception": false,
     "start_time": "2025-10-18T14:17:52.139838",
     "status": "completed"
    },
    "tags": []
   },
   "source": [
    "---\n",
    "### 3.2 imputation"
   ]
  },
  {
   "cell_type": "code",
   "execution_count": 9,
   "id": "c0b82eb0",
   "metadata": {
    "execution": {
     "iopub.execute_input": "2025-10-18T14:17:52.153675Z",
     "iopub.status.busy": "2025-10-18T14:17:52.153385Z",
     "iopub.status.idle": "2025-10-18T14:17:52.161660Z",
     "shell.execute_reply": "2025-10-18T14:17:52.161020Z"
    },
    "papermill": {
     "duration": 0.014537,
     "end_time": "2025-10-18T14:17:52.162936",
     "exception": false,
     "start_time": "2025-10-18T14:17:52.148399",
     "status": "completed"
    },
    "tags": []
   },
   "outputs": [],
   "source": [
    "features_df['player_weight'] = features_df['player_weight'].fillna(features_df['player_weight'].median())\n",
    "features_df['player_height_feet'] = features_df['player_height_feet'].fillna(features_df['player_height_feet'].median())"
   ]
  },
  {
   "cell_type": "code",
   "execution_count": 10,
   "id": "2cd887a7",
   "metadata": {
    "execution": {
     "iopub.execute_input": "2025-10-18T14:17:52.172481Z",
     "iopub.status.busy": "2025-10-18T14:17:52.172198Z",
     "iopub.status.idle": "2025-10-18T14:17:58.179882Z",
     "shell.execute_reply": "2025-10-18T14:17:58.178927Z"
    },
    "papermill": {
     "duration": 6.014037,
     "end_time": "2025-10-18T14:17:58.181333",
     "exception": false,
     "start_time": "2025-10-18T14:17:52.167296",
     "status": "completed"
    },
    "tags": []
   },
   "outputs": [
    {
     "name": "stdout",
     "output_type": "stream",
     "text": [
      "Number of features: 88\n"
     ]
    }
   ],
   "source": [
    "targets = (\n",
    "    output_df[['game_id', 'play_id', 'nfl_id', 'frame_id', 'x', 'y']]\n",
    "    .rename(columns={'x': 'target_x', 'y': 'target_y'})\n",
    ")\n",
    "\n",
    "train_df = targets.merge(features_df, on=['game_id', 'play_id', 'nfl_id'], how='left')\n",
    "\n",
    "train_df[\"frame_ratio\"] = train_df.groupby(['game_id', 'play_id', 'nfl_id'])['frame_id'].transform(\n",
    "    lambda s: s / s.max()\n",
    ")\n",
    "\n",
    "# feature selection\n",
    "exclude_cols = ['game_id', 'play_id', 'nfl_id', 'frame_id', 'target_x', 'target_y']\n",
    "feature_cols = [c for c in train_df.columns if c not in exclude_cols]\n",
    "\n",
    "X = train_df[feature_cols].fillna(0).replace([np.inf, -np.inf], 0)\n",
    "y_x = train_df['target_x']\n",
    "y_y = train_df['target_y']\n",
    "print(f\"Number of features: {len(feature_cols)}\")"
   ]
  },
  {
   "cell_type": "markdown",
   "id": "bc264e18",
   "metadata": {
    "papermill": {
     "duration": 0.004543,
     "end_time": "2025-10-18T14:17:58.190402",
     "exception": false,
     "start_time": "2025-10-18T14:17:58.185859",
     "status": "completed"
    },
    "tags": []
   },
   "source": [
    "---\n",
    "## 5. Cross-Validation"
   ]
  },
  {
   "cell_type": "code",
   "execution_count": 11,
   "id": "c27c4251",
   "metadata": {
    "execution": {
     "iopub.execute_input": "2025-10-18T14:17:58.200399Z",
     "iopub.status.busy": "2025-10-18T14:17:58.199636Z",
     "iopub.status.idle": "2025-10-18T14:27:38.989539Z",
     "shell.execute_reply": "2025-10-18T14:27:38.988552Z"
    },
    "papermill": {
     "duration": 580.796265,
     "end_time": "2025-10-18T14:27:38.990895",
     "exception": false,
     "start_time": "2025-10-18T14:17:58.194630",
     "status": "completed"
    },
    "tags": []
   },
   "outputs": [
    {
     "name": "stdout",
     "output_type": "stream",
     "text": [
      "\n",
      "=== Fold 1/5 ===\n",
      "[200]\tvalid_0's rmse: 1.22523\n",
      "[400]\tvalid_0's rmse: 1.175\n",
      "[600]\tvalid_0's rmse: 1.15966\n",
      "[800]\tvalid_0's rmse: 1.1504\n",
      "[1000]\tvalid_0's rmse: 1.144\n",
      "[200]\tvalid_0's rmse: 1.13101\n",
      "[400]\tvalid_0's rmse: 1.09217\n",
      "[600]\tvalid_0's rmse: 1.08116\n",
      "[800]\tvalid_0's rmse: 1.07687\n",
      "[1000]\tvalid_0's rmse: 1.07262\n",
      "Fold 1: RMSE_X=1.1440, RMSE_Y=1.0726, Combined=1.1089\n",
      "\n",
      "=== Fold 2/5 ===\n",
      "[200]\tvalid_0's rmse: 1.24316\n",
      "[400]\tvalid_0's rmse: 1.18513\n",
      "[600]\tvalid_0's rmse: 1.164\n",
      "[800]\tvalid_0's rmse: 1.15328\n",
      "[1000]\tvalid_0's rmse: 1.14804\n",
      "[200]\tvalid_0's rmse: 1.06378\n",
      "[400]\tvalid_0's rmse: 1.01305\n",
      "[600]\tvalid_0's rmse: 0.999728\n",
      "[800]\tvalid_0's rmse: 0.992073\n",
      "[1000]\tvalid_0's rmse: 0.987491\n",
      "Fold 2: RMSE_X=1.1480, RMSE_Y=0.9875, Combined=1.0708\n",
      "\n",
      "=== Fold 3/5 ===\n",
      "[200]\tvalid_0's rmse: 1.20654\n",
      "[400]\tvalid_0's rmse: 1.15432\n",
      "[600]\tvalid_0's rmse: 1.13746\n",
      "[800]\tvalid_0's rmse: 1.12516\n",
      "[1000]\tvalid_0's rmse: 1.1187\n",
      "[200]\tvalid_0's rmse: 1.08434\n",
      "[400]\tvalid_0's rmse: 1.03222\n",
      "[600]\tvalid_0's rmse: 1.0146\n",
      "[800]\tvalid_0's rmse: 1.00627\n",
      "[1000]\tvalid_0's rmse: 1.00333\n",
      "Fold 3: RMSE_X=1.1187, RMSE_Y=1.0033, Combined=1.0626\n",
      "\n",
      "=== Fold 4/5 ===\n",
      "[200]\tvalid_0's rmse: 1.16975\n",
      "[400]\tvalid_0's rmse: 1.11364\n",
      "[600]\tvalid_0's rmse: 1.0924\n",
      "[800]\tvalid_0's rmse: 1.08185\n",
      "[1000]\tvalid_0's rmse: 1.07682\n",
      "[200]\tvalid_0's rmse: 1.07582\n",
      "[400]\tvalid_0's rmse: 1.02816\n",
      "[600]\tvalid_0's rmse: 1.01611\n",
      "[800]\tvalid_0's rmse: 1.01017\n",
      "[1000]\tvalid_0's rmse: 1.00525\n",
      "Fold 4: RMSE_X=1.0768, RMSE_Y=1.0052, Combined=1.0416\n",
      "\n",
      "=== Fold 5/5 ===\n",
      "[200]\tvalid_0's rmse: 1.19208\n",
      "[400]\tvalid_0's rmse: 1.13437\n",
      "[600]\tvalid_0's rmse: 1.11723\n",
      "[800]\tvalid_0's rmse: 1.10848\n",
      "[1000]\tvalid_0's rmse: 1.10312\n",
      "[200]\tvalid_0's rmse: 1.08013\n",
      "[400]\tvalid_0's rmse: 1.03054\n",
      "[600]\tvalid_0's rmse: 1.01513\n",
      "[800]\tvalid_0's rmse: 1.0073\n",
      "[1000]\tvalid_0's rmse: 1.00214\n",
      "Fold 5: RMSE_X=1.1031, RMSE_Y=1.0021, Combined=1.0538\n",
      "Mean CV RMSE: 1.0675 ± 0.0228\n",
      "Models trained: 5 for X, 5 for Y\n"
     ]
    }
   ],
   "source": [
    "cv_scores = []\n",
    "models_x, models_y = [], []\n",
    "\n",
    "groups = train_df['game_id'].astype(str) + '_' + train_df['play_id'].astype(str)\n",
    "gkf = GroupKFold(n_splits=N_FOLDS)\n",
    "for fold, (train_idx, val_idx) in enumerate(gkf.split(X, groups=groups), 1):\n",
    "    print(f\"\\n=== Fold {fold}/{N_FOLDS} ===\")\n",
    "\n",
    "    X_train, X_val = X.iloc[train_idx], X.iloc[val_idx]\n",
    "    y_x_train, y_x_val = y_x.iloc[train_idx], y_x.iloc[val_idx]\n",
    "    y_y_train, y_y_val = y_y.iloc[train_idx], y_y.iloc[val_idx]\n",
    "\n",
    "    # --- Train model for X coordinate ---\n",
    "    model_x = LGBMRegressor(**params)\n",
    "    model_x.fit(\n",
    "        X_train, y_x_train,\n",
    "        eval_set=[(X_val, y_x_val)],\n",
    "        eval_metric=\"rmse\",\n",
    "        callbacks=[\n",
    "            lgb.early_stopping(stopping_rounds=100, verbose=False),\n",
    "            lgb.log_evaluation(200),\n",
    "        ],\n",
    "    )\n",
    "\n",
    "    # --- Train model for Y coordinate ---\n",
    "    model_y = LGBMRegressor(**params)\n",
    "    model_y.fit(\n",
    "        X_train, y_y_train,\n",
    "        eval_set=[(X_val, y_y_val)],\n",
    "        eval_metric=\"rmse\",\n",
    "        callbacks=[\n",
    "            lgb.early_stopping(stopping_rounds=100, verbose=False),\n",
    "            lgb.log_evaluation(200),\n",
    "        ],\n",
    "    )\n",
    "\n",
    "    # --- Save models ---\n",
    "    models_x.append(model_x)\n",
    "    models_y.append(model_y)\n",
    "\n",
    "    # --- Evaluate fold performance ---\n",
    "    pred_x = model_x.predict(X_val)\n",
    "    pred_y = model_y.predict(X_val)\n",
    "\n",
    "    rmse_x = np.sqrt(mean_squared_error(y_x_val, pred_x))\n",
    "    rmse_y = np.sqrt(mean_squared_error(y_y_val, pred_y))\n",
    "    rmse_combined = np.sqrt((rmse_x**2 + rmse_y**2) / 2)\n",
    "\n",
    "    cv_scores.append(rmse_combined)\n",
    "\n",
    "    print(f\"Fold {fold}: RMSE_X={rmse_x:.4f}, RMSE_Y={rmse_y:.4f}, Combined={rmse_combined:.4f}\")\n",
    "\n",
    "\n",
    "print(f\"Mean CV RMSE: {np.mean(cv_scores):.4f} ± {np.std(cv_scores):.4f}\")\n",
    "print(f\"Models trained: {len(models_x)} for X, {len(models_y)} for Y\")"
   ]
  },
  {
   "cell_type": "markdown",
   "id": "c165d085",
   "metadata": {
    "papermill": {
     "duration": 0.006604,
     "end_time": "2025-10-18T14:27:39.004402",
     "exception": false,
     "start_time": "2025-10-18T14:27:38.997798",
     "status": "completed"
    },
    "tags": []
   },
   "source": [
    "---\n",
    "## 6. Test Prediction"
   ]
  },
  {
   "cell_type": "code",
   "execution_count": 12,
   "id": "a1974498",
   "metadata": {
    "execution": {
     "iopub.execute_input": "2025-10-18T14:27:39.019545Z",
     "iopub.status.busy": "2025-10-18T14:27:39.018951Z",
     "iopub.status.idle": "2025-10-18T14:27:42.042769Z",
     "shell.execute_reply": "2025-10-18T14:27:42.042071Z"
    },
    "papermill": {
     "duration": 3.033325,
     "end_time": "2025-10-18T14:27:42.044329",
     "exception": false,
     "start_time": "2025-10-18T14:27:39.011004",
     "status": "completed"
    },
    "tags": []
   },
   "outputs": [],
   "source": [
    "test_input = pd.read_csv(DATA_PATH / 'test_input.csv')\n",
    "test_template = pd.read_csv(DATA_PATH / 'test.csv')\n",
    "\n",
    "# Create features (same as training)\n",
    "test_input = create_features(test_input)\n",
    "\n",
    "# Aggregation (same structure as training)\n",
    "test_agg = (\n",
    "    test_input\n",
    "    .groupby(['game_id', 'play_id', 'nfl_id'])\n",
    "    .agg({\n",
    "        # --- Core tracking ---\n",
    "        'x': ['first', 'last', 'mean', 'std'],\n",
    "        'y': ['first', 'last', 'mean', 'std'],\n",
    "        's': ['mean', 'max', 'std'],\n",
    "        'a': ['mean', 'max', 'std'],\n",
    "        'o': ['mean', 'std'],\n",
    "        'dir': ['mean', 'std'],\n",
    "        'frame_id': ['min', 'max', 'count'],\n",
    "\n",
    "        # --- Motion features ---\n",
    "        'velocity_x': ['mean', 'max', 'std', 'last'],\n",
    "        'velocity_y': ['mean', 'max', 'std', 'last'],\n",
    "        'acceleration_x': ['mean', 'max', 'std'],\n",
    "        'acceleration_y': ['mean', 'max', 'std'],\n",
    "        'kinetic_energy': ['mean', 'max'],\n",
    "\n",
    "        # --- Ball interaction ---\n",
    "        'distance_to_ball': ['first', 'last', 'mean', 'min', 'std'],\n",
    "        'angle_to_ball': ['mean', 'std'],\n",
    "        'ball_direction_x': ['mean', 'std', 'last'],\n",
    "        'ball_direction_y': ['mean', 'std', 'last'],\n",
    "        'closing_speed': ['mean', 'max', 'std'],\n",
    "\n",
    "        # --- Temporal/derived dynamics ---\n",
    "        'x_lag1': ['mean'], 'y_lag1': ['mean'],\n",
    "        'x_lag3': ['mean'], 'y_lag3': ['mean'],\n",
    "        'velocity_x_ema_0.3': ['last'], 'velocity_y_ema_0.3': ['last'],\n",
    "        'velocity_x_roll5': ['last'], 'velocity_y_roll5': ['last'],\n",
    "        's_roll5': ['last'], 'a_roll5': ['last'],\n",
    "\n",
    "        # --- Field & positioning ---\n",
    "        'field_x_norm': ['last', 'mean'],\n",
    "        'field_y_norm': ['last', 'mean'],\n",
    "        'dist_from_sideline': ['mean', 'min'],\n",
    "        'distance_to_endzone': ['mean', 'min'],\n",
    "\n",
    "        # --- Advanced features ---\n",
    "        'velocity_alignment': ['mean'],\n",
    "        'accel_alignment': ['mean'],\n",
    "        'receiver_optimality': ['mean', 'max'],\n",
    "        'defender_closing_speed': ['mean', 'max'],\n",
    "    })\n",
    "    .reset_index()\n",
    ")\n",
    "test_agg.columns = ['_'.join(col).strip('_') for col in test_agg.columns.values]\n",
    "\n",
    "# Static features (same as training)\n",
    "test_static = (\n",
    "    test_input\n",
    "    .groupby(['game_id', 'play_id', 'nfl_id'])\n",
    "    .first()[[\n",
    "        'ball_land_x', 'ball_land_y',\n",
    "        'player_height_feet', 'player_weight',\n",
    "        'is_offense', 'is_defense',\n",
    "        'is_receiver', 'is_coverage', 'is_passer', 'is_rusher'\n",
    "    ]]\n",
    "    .reset_index()\n",
    ")\n",
    "\n",
    "# Merge aggregated + static at the player level\n",
    "test_features = test_agg.merge(test_static, on=['game_id', 'play_id', 'nfl_id'], how='left')\n",
    "\n",
    "# Fill using training medians\n",
    "test_features['player_weight'] = test_features['player_weight'].fillna(features_df['player_weight'].median())\n",
    "test_features['player_height_feet'] = test_features['player_height_feet'].fillna(features_df['player_height_feet'].median())"
   ]
  },
  {
   "cell_type": "markdown",
   "id": "603333c4",
   "metadata": {
    "papermill": {
     "duration": 0.006466,
     "end_time": "2025-10-18T14:27:42.057701",
     "exception": false,
     "start_time": "2025-10-18T14:27:42.051235",
     "status": "completed"
    },
    "tags": []
   },
   "source": [
    "---\n",
    "## 7. Submission"
   ]
  },
  {
   "cell_type": "code",
   "execution_count": 13,
   "id": "7c5d025a",
   "metadata": {
    "execution": {
     "iopub.execute_input": "2025-10-18T14:27:42.072096Z",
     "iopub.status.busy": "2025-10-18T14:27:42.071530Z",
     "iopub.status.idle": "2025-10-18T14:27:45.619131Z",
     "shell.execute_reply": "2025-10-18T14:27:45.618203Z"
    },
    "papermill": {
     "duration": 3.556434,
     "end_time": "2025-10-18T14:27:45.620627",
     "exception": false,
     "start_time": "2025-10-18T14:27:42.064193",
     "status": "completed"
    },
    "tags": []
   },
   "outputs": [
    {
     "name": "stdout",
     "output_type": "stream",
     "text": [
      "Frame-level submission created: 5837 rows -> submission.csv\n"
     ]
    }
   ],
   "source": [
    "# Expand to frame-level by merging with test_template\n",
    "test_df = test_template.merge(test_features, on=['game_id', 'play_id', 'nfl_id'], how='left')\n",
    "\n",
    "# Add frame_ratio at frame level (same definition as training)\n",
    "test_df['frame_ratio'] = test_df.groupby(['game_id', 'play_id', 'nfl_id'])['frame_id'].transform(\n",
    "    lambda s: s / (s.max() + 1e-6)\n",
    ")\n",
    "\n",
    "\n",
    "extra_in_test = [c for c in test_df.columns if c not in feature_cols]\n",
    "\n",
    "# Final aligned matrix\n",
    "X_test = test_df[feature_cols].fillna(0).replace([np.inf, -np.inf], 0)\n",
    "\n",
    "# Predict with ensemble (once, at frame level)\n",
    "preds_x = np.column_stack([m.predict(X_test) for m in models_x])\n",
    "preds_y = np.column_stack([m.predict(X_test) for m in models_y])\n",
    "test_df['x'] = preds_x.mean(axis=1)\n",
    "test_df['y'] = preds_y.mean(axis=1)\n",
    "\n",
    "test_df['id'] = (\n",
    "    test_df['game_id'].astype(str) + '_' +\n",
    "    test_df['play_id'].astype(str) + '_' +\n",
    "    test_df['nfl_id'].astype(str)  + \"_\" +\n",
    "    test_df[\"frame_id\"].astype(str)\n",
    ")\n",
    "\n",
    "# Make submission\n",
    "submission_df = test_df[['id', 'x', 'y']]\n",
    "submission_df.to_csv('submission.csv', index=False)\n",
    "print(f\"Frame-level submission created: {len(submission_df)} rows -> submission.csv\")"
   ]
  }
 ],
 "metadata": {
  "kaggle": {
   "accelerator": "none",
   "dataSources": [
    {
     "databundleVersionId": 13825858,
     "sourceId": 114239,
     "sourceType": "competition"
    }
   ],
   "dockerImageVersionId": 31153,
   "isGpuEnabled": false,
   "isInternetEnabled": false,
   "language": "python",
   "sourceType": "notebook"
  },
  "kernelspec": {
   "display_name": "Python 3",
   "language": "python",
   "name": "python3"
  },
  "language_info": {
   "codemirror_mode": {
    "name": "ipython",
    "version": 3
   },
   "file_extension": ".py",
   "mimetype": "text/x-python",
   "name": "python",
   "nbconvert_exporter": "python",
   "pygments_lexer": "ipython3",
   "version": "3.11.13"
  },
  "papermill": {
   "default_parameters": {},
   "duration": 798.78191,
   "end_time": "2025-10-18T14:27:46.647501",
   "environment_variables": {},
   "exception": null,
   "input_path": "__notebook__.ipynb",
   "output_path": "__notebook__.ipynb",
   "parameters": {},
   "start_time": "2025-10-18T14:14:27.865591",
   "version": "2.6.0"
  }
 },
 "nbformat": 4,
 "nbformat_minor": 5
}
